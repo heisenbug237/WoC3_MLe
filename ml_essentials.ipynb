{
 "cells": [
  {
   "cell_type": "code",
   "execution_count": 81,
   "metadata": {},
   "outputs": [],
   "source": [
    "import pandas as pd\n",
    "import numpy as np\n",
    "import matplotlib.pyplot as plt\n",
    "%matplotlib inline \n",
    "\n",
    "from sklearn.model_selection import train_test_split\n",
    "from sklearn.cluster import KMeans\n",
    "from sklearn import metrics"
   ]
  },
  {
   "cell_type": "code",
   "execution_count": 82,
   "metadata": {
    "scrolled": true
   },
   "outputs": [],
   "source": [
    "data = pd.read_csv('kmeans_dataset.csv') "
   ]
  },
  {
   "cell_type": "code",
   "execution_count": 83,
   "metadata": {},
   "outputs": [
    {
     "data": {
      "text/html": [
       "<div>\n",
       "<style scoped>\n",
       "    .dataframe tbody tr th:only-of-type {\n",
       "        vertical-align: middle;\n",
       "    }\n",
       "\n",
       "    .dataframe tbody tr th {\n",
       "        vertical-align: top;\n",
       "    }\n",
       "\n",
       "    .dataframe thead th {\n",
       "        text-align: right;\n",
       "    }\n",
       "</style>\n",
       "<table border=\"1\" class=\"dataframe\">\n",
       "  <thead>\n",
       "    <tr style=\"text-align: right;\">\n",
       "      <th></th>\n",
       "      <th>Hardwork</th>\n",
       "      <th>Skills</th>\n",
       "      <th>Label</th>\n",
       "    </tr>\n",
       "  </thead>\n",
       "  <tbody>\n",
       "    <tr>\n",
       "      <th>0</th>\n",
       "      <td>1.483358</td>\n",
       "      <td>6.135020</td>\n",
       "      <td>C Tier</td>\n",
       "    </tr>\n",
       "    <tr>\n",
       "      <th>1</th>\n",
       "      <td>52.864104</td>\n",
       "      <td>48.897037</td>\n",
       "      <td>B Tier</td>\n",
       "    </tr>\n",
       "    <tr>\n",
       "      <th>2</th>\n",
       "      <td>67.556683</td>\n",
       "      <td>19.359183</td>\n",
       "      <td>D Tier</td>\n",
       "    </tr>\n",
       "    <tr>\n",
       "      <th>3</th>\n",
       "      <td>52.797684</td>\n",
       "      <td>43.650076</td>\n",
       "      <td>B Tier</td>\n",
       "    </tr>\n",
       "    <tr>\n",
       "      <th>4</th>\n",
       "      <td>45.060080</td>\n",
       "      <td>74.978268</td>\n",
       "      <td>B Tier</td>\n",
       "    </tr>\n",
       "  </tbody>\n",
       "</table>\n",
       "</div>"
      ],
      "text/plain": [
       "    Hardwork     Skills   Label\n",
       "0   1.483358   6.135020  C Tier\n",
       "1  52.864104  48.897037  B Tier\n",
       "2  67.556683  19.359183  D Tier\n",
       "3  52.797684  43.650076  B Tier\n",
       "4  45.060080  74.978268  B Tier"
      ]
     },
     "execution_count": 83,
     "metadata": {},
     "output_type": "execute_result"
    }
   ],
   "source": [
    "data.head()"
   ]
  },
  {
   "cell_type": "code",
   "execution_count": 84,
   "metadata": {},
   "outputs": [
    {
     "data": {
      "text/html": [
       "<div>\n",
       "<style scoped>\n",
       "    .dataframe tbody tr th:only-of-type {\n",
       "        vertical-align: middle;\n",
       "    }\n",
       "\n",
       "    .dataframe tbody tr th {\n",
       "        vertical-align: top;\n",
       "    }\n",
       "\n",
       "    .dataframe thead th {\n",
       "        text-align: right;\n",
       "    }\n",
       "</style>\n",
       "<table border=\"1\" class=\"dataframe\">\n",
       "  <thead>\n",
       "    <tr style=\"text-align: right;\">\n",
       "      <th></th>\n",
       "      <th>Hardwork</th>\n",
       "      <th>Skills</th>\n",
       "    </tr>\n",
       "  </thead>\n",
       "  <tbody>\n",
       "    <tr>\n",
       "      <th>0</th>\n",
       "      <td>1.483358</td>\n",
       "      <td>6.135020</td>\n",
       "    </tr>\n",
       "    <tr>\n",
       "      <th>1</th>\n",
       "      <td>52.864104</td>\n",
       "      <td>48.897037</td>\n",
       "    </tr>\n",
       "    <tr>\n",
       "      <th>2</th>\n",
       "      <td>67.556683</td>\n",
       "      <td>19.359183</td>\n",
       "    </tr>\n",
       "    <tr>\n",
       "      <th>3</th>\n",
       "      <td>52.797684</td>\n",
       "      <td>43.650076</td>\n",
       "    </tr>\n",
       "    <tr>\n",
       "      <th>4</th>\n",
       "      <td>45.060080</td>\n",
       "      <td>74.978268</td>\n",
       "    </tr>\n",
       "  </tbody>\n",
       "</table>\n",
       "</div>"
      ],
      "text/plain": [
       "    Hardwork     Skills\n",
       "0   1.483358   6.135020\n",
       "1  52.864104  48.897037\n",
       "2  67.556683  19.359183\n",
       "3  52.797684  43.650076\n",
       "4  45.060080  74.978268"
      ]
     },
     "execution_count": 84,
     "metadata": {},
     "output_type": "execute_result"
    }
   ],
   "source": [
    "mydata=data.drop('Label', axis =1)\n",
    "mydata.dropna(subset=['Hardwork'], inplace = True)\n",
    "mydata.dropna(subset=['Skills'], inplace = True)\n",
    "for x in mydata.index:\n",
    "  if mydata.loc[x, \"Hardwork\"] > 100:\n",
    "    mydata.drop(x, inplace = True)\n",
    "for x in mydata.index:\n",
    "  if mydata.loc[x, \"Skills\"] > 100:\n",
    "    mydata.drop(x, inplace = True)\n",
    "mydata.head()"
   ]
  },
  {
   "cell_type": "code",
   "execution_count": 85,
   "metadata": {},
   "outputs": [
    {
     "name": "stdout",
     "output_type": "stream",
     "text": [
      "<class 'pandas.core.frame.DataFrame'>\n",
      "Int64Index: 460 entries, 0 to 459\n",
      "Data columns (total 2 columns):\n",
      " #   Column    Non-Null Count  Dtype  \n",
      "---  ------    --------------  -----  \n",
      " 0   Hardwork  460 non-null    float64\n",
      " 1   Skills    460 non-null    float64\n",
      "dtypes: float64(2)\n",
      "memory usage: 30.8 KB\n",
      "0      False\n",
      "1      False\n",
      "2      False\n",
      "3      False\n",
      "4      False\n",
      "       ...  \n",
      "455    False\n",
      "456    False\n",
      "457    False\n",
      "458    False\n",
      "459    False\n",
      "Length: 460, dtype: bool\n"
     ]
    }
   ],
   "source": [
    "mydata.info()\n",
    "print(mydata.duplicated())\n",
    "mydata.drop_duplicates(inplace=True)"
   ]
  },
  {
   "cell_type": "code",
   "execution_count": 86,
   "metadata": {},
   "outputs": [
    {
     "data": {
      "text/html": [
       "<div>\n",
       "<style scoped>\n",
       "    .dataframe tbody tr th:only-of-type {\n",
       "        vertical-align: middle;\n",
       "    }\n",
       "\n",
       "    .dataframe tbody tr th {\n",
       "        vertical-align: top;\n",
       "    }\n",
       "\n",
       "    .dataframe thead th {\n",
       "        text-align: right;\n",
       "    }\n",
       "</style>\n",
       "<table border=\"1\" class=\"dataframe\">\n",
       "  <thead>\n",
       "    <tr style=\"text-align: right;\">\n",
       "      <th></th>\n",
       "      <th>count</th>\n",
       "      <th>mean</th>\n",
       "      <th>std</th>\n",
       "      <th>min</th>\n",
       "      <th>25%</th>\n",
       "      <th>50%</th>\n",
       "      <th>75%</th>\n",
       "      <th>max</th>\n",
       "    </tr>\n",
       "  </thead>\n",
       "  <tbody>\n",
       "    <tr>\n",
       "      <th>Hardwork</th>\n",
       "      <td>460.0</td>\n",
       "      <td>47.019178</td>\n",
       "      <td>24.895360</td>\n",
       "      <td>0.712341</td>\n",
       "      <td>25.287181</td>\n",
       "      <td>48.519039</td>\n",
       "      <td>67.467031</td>\n",
       "      <td>97.618528</td>\n",
       "    </tr>\n",
       "    <tr>\n",
       "      <th>Skills</th>\n",
       "      <td>460.0</td>\n",
       "      <td>38.439590</td>\n",
       "      <td>26.136017</td>\n",
       "      <td>1.447058</td>\n",
       "      <td>13.987334</td>\n",
       "      <td>38.515372</td>\n",
       "      <td>60.161463</td>\n",
       "      <td>95.704652</td>\n",
       "    </tr>\n",
       "  </tbody>\n",
       "</table>\n",
       "</div>"
      ],
      "text/plain": [
       "          count       mean        std       min        25%        50%  \\\n",
       "Hardwork  460.0  47.019178  24.895360  0.712341  25.287181  48.519039   \n",
       "Skills    460.0  38.439590  26.136017  1.447058  13.987334  38.515372   \n",
       "\n",
       "                75%        max  \n",
       "Hardwork  67.467031  97.618528  \n",
       "Skills    60.161463  95.704652  "
      ]
     },
     "execution_count": 86,
     "metadata": {},
     "output_type": "execute_result"
    }
   ],
   "source": [
    "mydata.describe().transpose()"
   ]
  },
  {
   "cell_type": "code",
   "execution_count": 87,
   "metadata": {},
   "outputs": [
    {
     "data": {
      "image/png": "[encoded data removed]",
      "text/plain": [
       "<Figure size 432x288 with 1 Axes>"
      ]
     },
     "metadata": {
      "needs_background": "light"
     },
     "output_type": "display_data"
    }
   ],
   "source": [
    "mydata.plot(kind = 'scatter', x = 'Hardwork', y = 'Skills')\n",
    "plt.show()"
   ]
  },
  {
   "cell_type": "code",
   "execution_count": 88,
   "metadata": {},
   "outputs": [],
   "source": [
    "#scale the data\n",
    "from scipy.stats import zscore\n",
    "\n",
    "mydata_z = mydata.apply(zscore)\n"
   ]
  },
  {
   "cell_type": "code",
   "execution_count": 89,
   "metadata": {},
   "outputs": [
    {
     "data": {
      "text/html": [
       "<div>\n",
       "<style scoped>\n",
       "    .dataframe tbody tr th:only-of-type {\n",
       "        vertical-align: middle;\n",
       "    }\n",
       "\n",
       "    .dataframe tbody tr th {\n",
       "        vertical-align: top;\n",
       "    }\n",
       "\n",
       "    .dataframe thead th {\n",
       "        text-align: right;\n",
       "    }\n",
       "</style>\n",
       "<table border=\"1\" class=\"dataframe\">\n",
       "  <thead>\n",
       "    <tr style=\"text-align: right;\">\n",
       "      <th></th>\n",
       "      <th>Hardwork</th>\n",
       "      <th>Skills</th>\n",
       "    </tr>\n",
       "  </thead>\n",
       "  <tbody>\n",
       "    <tr>\n",
       "      <th>0</th>\n",
       "      <td>-1.831080</td>\n",
       "      <td>-1.237363</td>\n",
       "    </tr>\n",
       "    <tr>\n",
       "      <th>1</th>\n",
       "      <td>0.235035</td>\n",
       "      <td>0.400552</td>\n",
       "    </tr>\n",
       "    <tr>\n",
       "      <th>2</th>\n",
       "      <td>0.825851</td>\n",
       "      <td>-0.730837</td>\n",
       "    </tr>\n",
       "    <tr>\n",
       "      <th>3</th>\n",
       "      <td>0.232364</td>\n",
       "      <td>0.199577</td>\n",
       "    </tr>\n",
       "    <tr>\n",
       "      <th>4</th>\n",
       "      <td>-0.078779</td>\n",
       "      <td>1.399542</td>\n",
       "    </tr>\n",
       "    <tr>\n",
       "      <th>5</th>\n",
       "      <td>1.562602</td>\n",
       "      <td>1.374199</td>\n",
       "    </tr>\n",
       "    <tr>\n",
       "      <th>6</th>\n",
       "      <td>-0.338896</td>\n",
       "      <td>1.043153</td>\n",
       "    </tr>\n",
       "    <tr>\n",
       "      <th>7</th>\n",
       "      <td>-0.932610</td>\n",
       "      <td>0.703361</td>\n",
       "    </tr>\n",
       "    <tr>\n",
       "      <th>8</th>\n",
       "      <td>-0.060593</td>\n",
       "      <td>0.744035</td>\n",
       "    </tr>\n",
       "    <tr>\n",
       "      <th>9</th>\n",
       "      <td>-0.086345</td>\n",
       "      <td>0.781817</td>\n",
       "    </tr>\n",
       "  </tbody>\n",
       "</table>\n",
       "</div>"
      ],
      "text/plain": [
       "   Hardwork    Skills\n",
       "0 -1.831080 -1.237363\n",
       "1  0.235035  0.400552\n",
       "2  0.825851 -0.730837\n",
       "3  0.232364  0.199577\n",
       "4 -0.078779  1.399542\n",
       "5  1.562602  1.374199\n",
       "6 -0.338896  1.043153\n",
       "7 -0.932610  0.703361\n",
       "8 -0.060593  0.744035\n",
       "9 -0.086345  0.781817"
      ]
     },
     "execution_count": 89,
     "metadata": {},
     "output_type": "execute_result"
    }
   ],
   "source": [
    "mydata_z.head(10)"
   ]
  },
  {
   "cell_type": "code",
   "execution_count": 90,
   "metadata": {},
   "outputs": [
    {
     "data": {
      "text/plain": [
       "Text(0.5, 1.0, 'Selecting k with elbow method')"
      ]
     },
     "execution_count": 90,
     "metadata": {},
     "output_type": "execute_result"
    },
    {
     "data": {
      "image/png": "[encoded data removed]",
      "text/plain": [
       "<Figure size 432x288 with 1 Axes>"
      ]
     },
     "metadata": {
      "needs_background": "light"
     },
     "output_type": "display_data"
    }
   ],
   "source": [
    "#finding optimal number of clusters \n",
    "from scipy.spatial.distance import cdist\n",
    "clusters=range(1,15)\n",
    "meanDistortions=[]\n",
    "\n",
    "for k in clusters:\n",
    "    model=KMeans(n_clusters=k)\n",
    "    model.fit(mydata)\n",
    "    prediction=model.predict(mydata)\n",
    "    meanDistortions.append(sum(np.min(cdist(mydata, model.cluster_centers_, 'euclidean'), axis=1)) / mydata.shape[0])\n",
    "    \n",
    "plt.plot(clusters, meanDistortions, '*-')\n",
    "plt.xlabel('k')\n",
    "plt.ylabel('Average Distortion')\n",
    "plt.title('Selecting k with elbow method')"
   ]
  },
  {
   "cell_type": "code",
   "execution_count": 91,
   "metadata": {},
   "outputs": [],
   "source": [
    "#set the value of k=4\n",
    "kmeans = KMeans(n_clusters=4)\n"
   ]
  },
  {
   "cell_type": "code",
   "execution_count": 92,
   "metadata": {},
   "outputs": [
    {
     "data": {
      "text/plain": [
       "KMeans(n_clusters=4)"
      ]
     },
     "execution_count": 92,
     "metadata": {},
     "output_type": "execute_result"
    }
   ],
   "source": [
    "kmeans.fit(mydata_z)\n"
   ]
  },
  {
   "cell_type": "code",
   "execution_count": 93,
   "metadata": {},
   "outputs": [],
   "source": [
    "centroids=kmeans.cluster_centers_\n"
   ]
  },
  {
   "cell_type": "code",
   "execution_count": 94,
   "metadata": {},
   "outputs": [
    {
     "data": {
      "text/plain": [
       "array([[-0.21311716,  0.74382599],\n",
       "       [ 0.93296744, -0.80919971],\n",
       "       [-1.33074893, -1.01342853],\n",
       "       [ 1.35542865,  1.46490646]])"
      ]
     },
     "execution_count": 94,
     "metadata": {},
     "output_type": "execute_result"
    }
   ],
   "source": [
    "centroids"
   ]
  },
  {
   "cell_type": "code",
   "execution_count": 95,
   "metadata": {},
   "outputs": [],
   "source": [
    "centroid_df = pd.DataFrame(centroids, columns = list(mydata_z))\n"
   ]
  },
  {
   "cell_type": "code",
   "execution_count": 96,
   "metadata": {},
   "outputs": [
    {
     "name": "stdout",
     "output_type": "stream",
     "text": [
      "   Hardwork    Skills\n",
      "0 -0.213117  0.743826\n",
      "1  0.932967 -0.809200\n",
      "2 -1.330749 -1.013429\n",
      "3  1.355429  1.464906\n"
     ]
    }
   ],
   "source": [
    "print(centroid_df)"
   ]
  },
  {
   "cell_type": "code",
   "execution_count": 97,
   "metadata": {},
   "outputs": [
    {
     "data": {
      "text/plain": [
       "array([2, 0, 1, 0, 0, 3, 0, 0, 0, 0, 1, 2, 1, 1, 0, 0, 0, 0, 0, 0, 0, 0,\n",
       "       0, 0, 0, 0, 0, 0, 0, 3, 1, 0, 2, 2, 0, 2, 0, 0, 0, 0, 1, 1, 0, 0,\n",
       "       0, 1, 1, 1, 2, 0, 1, 0, 0, 2, 1, 1, 1, 2, 0, 2, 0, 3, 1, 1, 2, 2,\n",
       "       0, 1, 2, 2, 0, 2, 3, 1, 2, 0, 0, 2, 3, 3, 2, 1, 2, 1, 1, 0, 1, 0,\n",
       "       3, 3, 1, 1, 0, 2, 2, 0, 3, 3, 0, 2, 1, 2, 0, 0, 2, 1, 2, 0, 1, 2,\n",
       "       1, 0, 2, 1, 2, 3, 0, 2, 0, 1, 0, 1, 3, 1, 3, 0, 2, 2, 2, 0, 0, 2,\n",
       "       2, 0, 0, 3, 3, 1, 0, 1, 3, 2, 0, 0, 3, 1, 2, 1, 1, 0, 1, 0, 2, 2,\n",
       "       0, 1, 1, 2, 1, 1, 0, 2, 3, 1, 1, 1, 1, 0, 1, 1, 3, 1, 2, 2, 3, 2,\n",
       "       2, 1, 0, 0, 1, 2, 1, 0, 0, 3, 2, 3, 0, 0, 1, 1, 1, 2, 0, 0, 1, 0,\n",
       "       2, 0, 0, 2, 2, 0, 0, 0, 1, 0, 1, 0, 2, 1, 1, 0, 0, 1, 1, 2, 1, 3,\n",
       "       3, 1, 0, 1, 0, 0, 0, 0, 2, 0, 1, 1, 0, 0, 0, 0, 2, 1, 2, 3, 0, 2,\n",
       "       2, 0, 2, 0, 1, 0, 3, 0, 1, 0, 0, 0, 1, 0, 1, 1, 3, 1, 0, 0, 0, 2,\n",
       "       0, 2, 1, 0, 3, 0, 1, 2, 0, 3, 1, 1, 1, 1, 2, 1, 0, 1, 2, 0, 0, 0,\n",
       "       0, 0, 0, 2, 0, 0, 0, 0, 0, 2, 0, 1, 0, 0, 0, 3, 2, 3, 0, 0, 0, 3,\n",
       "       0, 0, 1, 1, 1, 1, 0, 3, 1, 0, 3, 0, 1, 0, 0, 2, 0, 1, 2, 0, 1, 1,\n",
       "       1, 0, 2, 0, 0, 2, 0, 2, 3, 0, 2, 2, 0, 2, 2, 3, 2, 0, 0, 2, 1, 0,\n",
       "       2, 0, 1, 2, 2, 1, 1, 0, 1, 0, 2, 2, 0, 2, 2, 0, 0, 2, 2, 1, 1, 3,\n",
       "       3, 0, 3, 1, 2, 2, 0, 0, 0, 0, 3, 1, 1, 0, 0, 2, 1, 2, 3, 0, 3, 0,\n",
       "       1, 0, 0, 3, 2, 2, 1, 0, 2, 0, 3, 1, 1, 0, 1, 2, 1, 2, 1, 1, 3, 1,\n",
       "       2, 0, 1, 0, 1, 1, 0, 0, 0, 0, 2, 0, 2, 2, 1, 0, 0, 0, 1, 2, 1, 2,\n",
       "       0, 0, 0, 0, 1, 0, 1, 0, 3, 1, 2, 1, 1, 2, 2, 0, 0, 0, 2, 0],\n",
       "      dtype=int32)"
      ]
     },
     "execution_count": 97,
     "metadata": {},
     "output_type": "execute_result"
    }
   ],
   "source": [
    "kmeans.labels_"
   ]
  },
  {
   "cell_type": "code",
   "execution_count": 98,
   "metadata": {},
   "outputs": [],
   "source": [
    "#creating a new dataframe only for labels and concerting it into categorical variable\n",
    "df_labels = pd.DataFrame(kmeans.labels_, columns = list(['labels']))\n",
    "\n",
    "df_labels['labels'] = df_labels['labels'].astype('category')\n"
   ]
  },
  {
   "cell_type": "code",
   "execution_count": 99,
   "metadata": {},
   "outputs": [],
   "source": [
    "#joining the label dataframe with dataframe\n",
    "df_labeled = mydata.join(df_labels)"
   ]
  },
  {
   "cell_type": "code",
   "execution_count": 100,
   "metadata": {},
   "outputs": [
    {
     "data": {
      "text/html": [
       "<div>\n",
       "<style scoped>\n",
       "    .dataframe tbody tr th:only-of-type {\n",
       "        vertical-align: middle;\n",
       "    }\n",
       "\n",
       "    .dataframe tbody tr th {\n",
       "        vertical-align: top;\n",
       "    }\n",
       "\n",
       "    .dataframe thead th {\n",
       "        text-align: right;\n",
       "    }\n",
       "</style>\n",
       "<table border=\"1\" class=\"dataframe\">\n",
       "  <thead>\n",
       "    <tr style=\"text-align: right;\">\n",
       "      <th></th>\n",
       "      <th>Hardwork</th>\n",
       "      <th>Skills</th>\n",
       "      <th>labels</th>\n",
       "    </tr>\n",
       "  </thead>\n",
       "  <tbody>\n",
       "    <tr>\n",
       "      <th>0</th>\n",
       "      <td>1.483358</td>\n",
       "      <td>6.135020</td>\n",
       "      <td>2</td>\n",
       "    </tr>\n",
       "    <tr>\n",
       "      <th>1</th>\n",
       "      <td>52.864104</td>\n",
       "      <td>48.897037</td>\n",
       "      <td>0</td>\n",
       "    </tr>\n",
       "    <tr>\n",
       "      <th>2</th>\n",
       "      <td>67.556683</td>\n",
       "      <td>19.359183</td>\n",
       "      <td>1</td>\n",
       "    </tr>\n",
       "    <tr>\n",
       "      <th>3</th>\n",
       "      <td>52.797684</td>\n",
       "      <td>43.650076</td>\n",
       "      <td>0</td>\n",
       "    </tr>\n",
       "    <tr>\n",
       "      <th>4</th>\n",
       "      <td>45.060080</td>\n",
       "      <td>74.978268</td>\n",
       "      <td>0</td>\n",
       "    </tr>\n",
       "    <tr>\n",
       "      <th>...</th>\n",
       "      <td>...</td>\n",
       "      <td>...</td>\n",
       "      <td>...</td>\n",
       "    </tr>\n",
       "    <tr>\n",
       "      <th>455</th>\n",
       "      <td>48.414533</td>\n",
       "      <td>53.807818</td>\n",
       "      <td>0</td>\n",
       "    </tr>\n",
       "    <tr>\n",
       "      <th>456</th>\n",
       "      <td>49.534222</td>\n",
       "      <td>54.425778</td>\n",
       "      <td>0</td>\n",
       "    </tr>\n",
       "    <tr>\n",
       "      <th>457</th>\n",
       "      <td>30.457458</td>\n",
       "      <td>40.396009</td>\n",
       "      <td>0</td>\n",
       "    </tr>\n",
       "    <tr>\n",
       "      <th>458</th>\n",
       "      <td>2.277720</td>\n",
       "      <td>5.085407</td>\n",
       "      <td>2</td>\n",
       "    </tr>\n",
       "    <tr>\n",
       "      <th>459</th>\n",
       "      <td>37.012233</td>\n",
       "      <td>51.093717</td>\n",
       "      <td>0</td>\n",
       "    </tr>\n",
       "  </tbody>\n",
       "</table>\n",
       "<p>460 rows × 3 columns</p>\n",
       "</div>"
      ],
      "text/plain": [
       "      Hardwork     Skills labels\n",
       "0     1.483358   6.135020      2\n",
       "1    52.864104  48.897037      0\n",
       "2    67.556683  19.359183      1\n",
       "3    52.797684  43.650076      0\n",
       "4    45.060080  74.978268      0\n",
       "..         ...        ...    ...\n",
       "455  48.414533  53.807818      0\n",
       "456  49.534222  54.425778      0\n",
       "457  30.457458  40.396009      0\n",
       "458   2.277720   5.085407      2\n",
       "459  37.012233  51.093717      0\n",
       "\n",
       "[460 rows x 3 columns]"
      ]
     },
     "execution_count": 100,
     "metadata": {},
     "output_type": "execute_result"
    }
   ],
   "source": [
    "df_analysis = (df_labeled.groupby(['labels'],axis=0)).head(4177)\n",
    "df_analysis"
   ]
  },
  {
   "cell_type": "code",
   "execution_count": 101,
   "metadata": {},
   "outputs": [
    {
     "data": {
      "text/plain": [
       "0    186\n",
       "1    124\n",
       "2    104\n",
       "3     46\n",
       "Name: labels, dtype: int64"
      ]
     },
     "execution_count": 101,
     "metadata": {},
     "output_type": "execute_result"
    }
   ],
   "source": [
    "df_labeled['labels'].value_counts()"
   ]
  },
  {
   "cell_type": "code",
   "execution_count": 102,
   "metadata": {},
   "outputs": [
    {
     "data": {
      "text/plain": [
       "KMeans(n_clusters=4)"
      ]
     },
     "execution_count": 102,
     "metadata": {},
     "output_type": "execute_result"
    }
   ],
   "source": [
    "km = KMeans(n_clusters=4)\n",
    "km.fit(mydata)"
   ]
  },
  {
   "cell_type": "code",
   "execution_count": 103,
   "metadata": {},
   "outputs": [
    {
     "data": {
      "text/plain": [
       "<matplotlib.legend.Legend at 0x7f93232477f0>"
      ]
     },
     "execution_count": 103,
     "metadata": {},
     "output_type": "execute_result"
    },
    {
     "data": {
      "image/png": "[encoded data removed]",
      "text/plain": [
       "<Figure size 432x288 with 1 Axes>"
      ]
     },
     "metadata": {
      "needs_background": "light"
     },
     "output_type": "display_data"
    }
   ],
   "source": [
    "df0=df_labeled[df_labeled.labels==0]\n",
    "df1=df_labeled[df_labeled.labels==1]\n",
    "df2=df_labeled[df_labeled.labels==2]\n",
    "df3=df_labeled[df_labeled.labels==3]\n",
    "plt.scatter(df0.Hardwork,df0.Skills,color ='red',label='Tier D')\n",
    "plt.scatter(df1.Hardwork,df1.Skills,color ='blue',label='Tier C')\n",
    "plt.scatter(df2.Hardwork,df2.Skills,color ='green',label='Tier A')\n",
    "plt.scatter(df3.Hardwork,df3.Skills,color ='yellow',label='Tier B')\n",
    "plt.scatter(km.cluster_centers_[:,0],km.cluster_centers_[:,1],color='black',marker='*',label='centroid')\n",
    "plt.xlabel('Hardwork')\n",
    "plt.ylabel('Skills')\n",
    "plt.legend()"
   ]
  },
  {
   "cell_type": "code",
   "execution_count": null,
   "metadata": {},
   "outputs": [],
   "source": []
  }
 ],
 "metadata": {
  "kernelspec": {
   "display_name": "Python 3",
   "language": "python",
   "name": "python3"
  },
  "language_info": {
   "codemirror_mode": {
    "name": "ipython",
    "version": 3
   },
   "file_extension": ".py",
   "mimetype": "text/x-python",
   "name": "python",
   "nbconvert_exporter": "python",
   "pygments_lexer": "ipython3",
   "version": "3.8.5"
  }
 },
 "nbformat": 4,
 "nbformat_minor": 4
}
