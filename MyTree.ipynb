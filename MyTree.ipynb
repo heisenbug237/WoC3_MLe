{
 "cells": [
  {
   "cell_type": "markdown",
   "metadata": {},
   "source": [
    "# Implementation of Decision Tree from Scratch"
   ]
  },
  {
   "cell_type": "markdown",
   "metadata": {},
   "source": [
    "### Documentation to be continued..."
   ]
  },
  {
   "cell_type": "code",
   "execution_count": 1,
   "metadata": {},
   "outputs": [],
   "source": [
    "import pandas as pd\n",
    "import numpy as np\n",
    "import matplotlib.pyplot as plt\n",
    "%matplotlib inline\n",
    "\n",
    "import seaborn as sns"
   ]
  },
  {
   "cell_type": "code",
   "execution_count": 2,
   "metadata": {},
   "outputs": [],
   "source": [
    "data = pd.read_csv('hotel_experience.csv')"
   ]
  },
  {
   "cell_type": "code",
   "execution_count": 3,
   "metadata": {},
   "outputs": [
    {
     "data": {
      "text/html": [
       "<div>\n",
       "<style scoped>\n",
       "    .dataframe tbody tr th:only-of-type {\n",
       "        vertical-align: middle;\n",
       "    }\n",
       "\n",
       "    .dataframe tbody tr th {\n",
       "        vertical-align: top;\n",
       "    }\n",
       "\n",
       "    .dataframe thead th {\n",
       "        text-align: right;\n",
       "    }\n",
       "</style>\n",
       "<table border=\"1\" class=\"dataframe\">\n",
       "  <thead>\n",
       "    <tr style=\"text-align: right;\">\n",
       "      <th></th>\n",
       "      <th>Unnamed: 0</th>\n",
       "      <th>id</th>\n",
       "      <th>Gender</th>\n",
       "      <th>Age</th>\n",
       "      <th>purpose_of_travel</th>\n",
       "      <th>Type of Travel</th>\n",
       "      <th>Type Of Booking</th>\n",
       "      <th>Hotel wifi service</th>\n",
       "      <th>Departure/Arrival  convenience</th>\n",
       "      <th>Ease of Online booking</th>\n",
       "      <th>Hotel location</th>\n",
       "      <th>Food and drink</th>\n",
       "      <th>Stay comfort</th>\n",
       "      <th>Common Room entertainment</th>\n",
       "      <th>Checkin/Checkout service</th>\n",
       "      <th>Other service</th>\n",
       "      <th>Cleanliness</th>\n",
       "      <th>overall experience</th>\n",
       "    </tr>\n",
       "  </thead>\n",
       "  <tbody>\n",
       "    <tr>\n",
       "      <th>0</th>\n",
       "      <td>0</td>\n",
       "      <td>32746</td>\n",
       "      <td>Female</td>\n",
       "      <td>32</td>\n",
       "      <td>academic</td>\n",
       "      <td>Group Travel</td>\n",
       "      <td>Individual/Couple</td>\n",
       "      <td>5</td>\n",
       "      <td>5</td>\n",
       "      <td>2</td>\n",
       "      <td>5</td>\n",
       "      <td>5</td>\n",
       "      <td>5</td>\n",
       "      <td>5</td>\n",
       "      <td>1</td>\n",
       "      <td>2</td>\n",
       "      <td>5</td>\n",
       "      <td>good</td>\n",
       "    </tr>\n",
       "    <tr>\n",
       "      <th>1</th>\n",
       "      <td>1</td>\n",
       "      <td>52532</td>\n",
       "      <td>Male</td>\n",
       "      <td>44</td>\n",
       "      <td>business</td>\n",
       "      <td>Group Travel</td>\n",
       "      <td>Group bookings</td>\n",
       "      <td>3</td>\n",
       "      <td>3</td>\n",
       "      <td>3</td>\n",
       "      <td>3</td>\n",
       "      <td>5</td>\n",
       "      <td>3</td>\n",
       "      <td>4</td>\n",
       "      <td>2</td>\n",
       "      <td>4</td>\n",
       "      <td>1</td>\n",
       "      <td>good</td>\n",
       "    </tr>\n",
       "    <tr>\n",
       "      <th>2</th>\n",
       "      <td>2</td>\n",
       "      <td>62644</td>\n",
       "      <td>Male</td>\n",
       "      <td>64</td>\n",
       "      <td>tourism</td>\n",
       "      <td>Personal Travel</td>\n",
       "      <td>Individual/Couple</td>\n",
       "      <td>3</td>\n",
       "      <td>5</td>\n",
       "      <td>3</td>\n",
       "      <td>3</td>\n",
       "      <td>1</td>\n",
       "      <td>1</td>\n",
       "      <td>1</td>\n",
       "      <td>3</td>\n",
       "      <td>5</td>\n",
       "      <td>1</td>\n",
       "      <td>bad</td>\n",
       "    </tr>\n",
       "    <tr>\n",
       "      <th>3</th>\n",
       "      <td>3</td>\n",
       "      <td>57270</td>\n",
       "      <td>Female</td>\n",
       "      <td>36</td>\n",
       "      <td>academic</td>\n",
       "      <td>Group Travel</td>\n",
       "      <td>Group bookings</td>\n",
       "      <td>2</td>\n",
       "      <td>4</td>\n",
       "      <td>4</td>\n",
       "      <td>4</td>\n",
       "      <td>4</td>\n",
       "      <td>3</td>\n",
       "      <td>2</td>\n",
       "      <td>1</td>\n",
       "      <td>2</td>\n",
       "      <td>2</td>\n",
       "      <td>bad</td>\n",
       "    </tr>\n",
       "    <tr>\n",
       "      <th>4</th>\n",
       "      <td>4</td>\n",
       "      <td>18607</td>\n",
       "      <td>Female</td>\n",
       "      <td>80</td>\n",
       "      <td>tourism</td>\n",
       "      <td>Group Travel</td>\n",
       "      <td>Individual/Couple</td>\n",
       "      <td>2</td>\n",
       "      <td>4</td>\n",
       "      <td>2</td>\n",
       "      <td>5</td>\n",
       "      <td>4</td>\n",
       "      <td>4</td>\n",
       "      <td>4</td>\n",
       "      <td>2</td>\n",
       "      <td>2</td>\n",
       "      <td>4</td>\n",
       "      <td>bad</td>\n",
       "    </tr>\n",
       "    <tr>\n",
       "      <th>5</th>\n",
       "      <td>5</td>\n",
       "      <td>22406</td>\n",
       "      <td>Female</td>\n",
       "      <td>57</td>\n",
       "      <td>business</td>\n",
       "      <td>Group Travel</td>\n",
       "      <td>Individual/Couple</td>\n",
       "      <td>4</td>\n",
       "      <td>2</td>\n",
       "      <td>2</td>\n",
       "      <td>2</td>\n",
       "      <td>2</td>\n",
       "      <td>4</td>\n",
       "      <td>3</td>\n",
       "      <td>3</td>\n",
       "      <td>3</td>\n",
       "      <td>3</td>\n",
       "      <td>good</td>\n",
       "    </tr>\n",
       "    <tr>\n",
       "      <th>6</th>\n",
       "      <td>6</td>\n",
       "      <td>64260</td>\n",
       "      <td>Male</td>\n",
       "      <td>32</td>\n",
       "      <td>tourism</td>\n",
       "      <td>Group Travel</td>\n",
       "      <td>Group bookings</td>\n",
       "      <td>5</td>\n",
       "      <td>5</td>\n",
       "      <td>2</td>\n",
       "      <td>5</td>\n",
       "      <td>4</td>\n",
       "      <td>4</td>\n",
       "      <td>4</td>\n",
       "      <td>3</td>\n",
       "      <td>4</td>\n",
       "      <td>4</td>\n",
       "      <td>good</td>\n",
       "    </tr>\n",
       "    <tr>\n",
       "      <th>7</th>\n",
       "      <td>7</td>\n",
       "      <td>82864</td>\n",
       "      <td>Male</td>\n",
       "      <td>29</td>\n",
       "      <td>personal</td>\n",
       "      <td>Group Travel</td>\n",
       "      <td>Group bookings</td>\n",
       "      <td>1</td>\n",
       "      <td>1</td>\n",
       "      <td>1</td>\n",
       "      <td>1</td>\n",
       "      <td>5</td>\n",
       "      <td>5</td>\n",
       "      <td>5</td>\n",
       "      <td>3</td>\n",
       "      <td>4</td>\n",
       "      <td>5</td>\n",
       "      <td>good</td>\n",
       "    </tr>\n",
       "    <tr>\n",
       "      <th>8</th>\n",
       "      <td>8</td>\n",
       "      <td>113731</td>\n",
       "      <td>Female</td>\n",
       "      <td>7</td>\n",
       "      <td>tourism</td>\n",
       "      <td>Personal Travel</td>\n",
       "      <td>Individual/Couple</td>\n",
       "      <td>0</td>\n",
       "      <td>5</td>\n",
       "      <td>0</td>\n",
       "      <td>4</td>\n",
       "      <td>4</td>\n",
       "      <td>4</td>\n",
       "      <td>4</td>\n",
       "      <td>4</td>\n",
       "      <td>4</td>\n",
       "      <td>4</td>\n",
       "      <td>good</td>\n",
       "    </tr>\n",
       "    <tr>\n",
       "      <th>9</th>\n",
       "      <td>9</td>\n",
       "      <td>56594</td>\n",
       "      <td>Female</td>\n",
       "      <td>51</td>\n",
       "      <td>aviation</td>\n",
       "      <td>Group Travel</td>\n",
       "      <td>Group bookings</td>\n",
       "      <td>1</td>\n",
       "      <td>1</td>\n",
       "      <td>1</td>\n",
       "      <td>1</td>\n",
       "      <td>3</td>\n",
       "      <td>4</td>\n",
       "      <td>5</td>\n",
       "      <td>3</td>\n",
       "      <td>5</td>\n",
       "      <td>4</td>\n",
       "      <td>good</td>\n",
       "    </tr>\n",
       "  </tbody>\n",
       "</table>\n",
       "</div>"
      ],
      "text/plain": [
       "   Unnamed: 0      id  Gender  Age purpose_of_travel   Type of Travel  \\\n",
       "0           0   32746  Female   32          academic     Group Travel   \n",
       "1           1   52532    Male   44          business     Group Travel   \n",
       "2           2   62644    Male   64           tourism  Personal Travel   \n",
       "3           3   57270  Female   36          academic     Group Travel   \n",
       "4           4   18607  Female   80           tourism     Group Travel   \n",
       "5           5   22406  Female   57          business     Group Travel   \n",
       "6           6   64260    Male   32           tourism     Group Travel   \n",
       "7           7   82864    Male   29          personal     Group Travel   \n",
       "8           8  113731  Female    7           tourism  Personal Travel   \n",
       "9           9   56594  Female   51          aviation     Group Travel   \n",
       "\n",
       "     Type Of Booking  Hotel wifi service  Departure/Arrival  convenience  \\\n",
       "0  Individual/Couple                   5                               5   \n",
       "1     Group bookings                   3                               3   \n",
       "2  Individual/Couple                   3                               5   \n",
       "3     Group bookings                   2                               4   \n",
       "4  Individual/Couple                   2                               4   \n",
       "5  Individual/Couple                   4                               2   \n",
       "6     Group bookings                   5                               5   \n",
       "7     Group bookings                   1                               1   \n",
       "8  Individual/Couple                   0                               5   \n",
       "9     Group bookings                   1                               1   \n",
       "\n",
       "   Ease of Online booking  Hotel location  Food and drink  Stay comfort  \\\n",
       "0                       2               5               5             5   \n",
       "1                       3               3               5             3   \n",
       "2                       3               3               1             1   \n",
       "3                       4               4               4             3   \n",
       "4                       2               5               4             4   \n",
       "5                       2               2               2             4   \n",
       "6                       2               5               4             4   \n",
       "7                       1               1               5             5   \n",
       "8                       0               4               4             4   \n",
       "9                       1               1               3             4   \n",
       "\n",
       "   Common Room entertainment  Checkin/Checkout service  Other service  \\\n",
       "0                          5                         1              2   \n",
       "1                          4                         2              4   \n",
       "2                          1                         3              5   \n",
       "3                          2                         1              2   \n",
       "4                          4                         2              2   \n",
       "5                          3                         3              3   \n",
       "6                          4                         3              4   \n",
       "7                          5                         3              4   \n",
       "8                          4                         4              4   \n",
       "9                          5                         3              5   \n",
       "\n",
       "   Cleanliness overall experience  \n",
       "0            5               good  \n",
       "1            1               good  \n",
       "2            1                bad  \n",
       "3            2                bad  \n",
       "4            4                bad  \n",
       "5            3               good  \n",
       "6            4               good  \n",
       "7            5               good  \n",
       "8            4               good  \n",
       "9            4               good  "
      ]
     },
     "execution_count": 3,
     "metadata": {},
     "output_type": "execute_result"
    }
   ],
   "source": [
    "data.head(10)"
   ]
  },
  {
   "cell_type": "code",
   "execution_count": 4,
   "metadata": {},
   "outputs": [
    {
     "data": {
      "text/html": [
       "<div>\n",
       "<style scoped>\n",
       "    .dataframe tbody tr th:only-of-type {\n",
       "        vertical-align: middle;\n",
       "    }\n",
       "\n",
       "    .dataframe tbody tr th {\n",
       "        vertical-align: top;\n",
       "    }\n",
       "\n",
       "    .dataframe thead th {\n",
       "        text-align: right;\n",
       "    }\n",
       "</style>\n",
       "<table border=\"1\" class=\"dataframe\">\n",
       "  <thead>\n",
       "    <tr style=\"text-align: right;\">\n",
       "      <th></th>\n",
       "      <th>Gender</th>\n",
       "      <th>Age</th>\n",
       "      <th>purpose_of_travel</th>\n",
       "      <th>Type of Travel</th>\n",
       "      <th>Type Of Booking</th>\n",
       "      <th>Hotel wifi service</th>\n",
       "      <th>Departure/Arrival  convenience</th>\n",
       "      <th>Ease of Online booking</th>\n",
       "      <th>Hotel location</th>\n",
       "      <th>Food and drink</th>\n",
       "      <th>Stay comfort</th>\n",
       "      <th>Common Room entertainment</th>\n",
       "      <th>Checkin/Checkout service</th>\n",
       "      <th>Other service</th>\n",
       "      <th>Cleanliness</th>\n",
       "      <th>overall experience</th>\n",
       "    </tr>\n",
       "  </thead>\n",
       "  <tbody>\n",
       "    <tr>\n",
       "      <th>0</th>\n",
       "      <td>Female</td>\n",
       "      <td>32</td>\n",
       "      <td>academic</td>\n",
       "      <td>Group Travel</td>\n",
       "      <td>Individual/Couple</td>\n",
       "      <td>5</td>\n",
       "      <td>5</td>\n",
       "      <td>2</td>\n",
       "      <td>5</td>\n",
       "      <td>5</td>\n",
       "      <td>5</td>\n",
       "      <td>5</td>\n",
       "      <td>1</td>\n",
       "      <td>2</td>\n",
       "      <td>5</td>\n",
       "      <td>good</td>\n",
       "    </tr>\n",
       "  </tbody>\n",
       "</table>\n",
       "</div>"
      ],
      "text/plain": [
       "   Gender  Age purpose_of_travel Type of Travel    Type Of Booking  \\\n",
       "0  Female   32          academic   Group Travel  Individual/Couple   \n",
       "\n",
       "   Hotel wifi service  Departure/Arrival  convenience  Ease of Online booking  \\\n",
       "0                   5                               5                       2   \n",
       "\n",
       "   Hotel location  Food and drink  Stay comfort  Common Room entertainment  \\\n",
       "0               5               5             5                          5   \n",
       "\n",
       "   Checkin/Checkout service  Other service  Cleanliness overall experience  \n",
       "0                         1              2            5               good  "
      ]
     },
     "execution_count": 4,
     "metadata": {},
     "output_type": "execute_result"
    }
   ],
   "source": [
    "mydata=data.drop(['Unnamed: 0','id'], axis=1)\n",
    "mydata.head(1)"
   ]
  },
  {
   "cell_type": "code",
   "execution_count": 5,
   "metadata": {},
   "outputs": [
    {
     "data": {
      "text/html": [
       "<div>\n",
       "<style scoped>\n",
       "    .dataframe tbody tr th:only-of-type {\n",
       "        vertical-align: middle;\n",
       "    }\n",
       "\n",
       "    .dataframe tbody tr th {\n",
       "        vertical-align: top;\n",
       "    }\n",
       "\n",
       "    .dataframe thead th {\n",
       "        text-align: right;\n",
       "    }\n",
       "</style>\n",
       "<table border=\"1\" class=\"dataframe\">\n",
       "  <thead>\n",
       "    <tr style=\"text-align: right;\">\n",
       "      <th></th>\n",
       "      <th>count</th>\n",
       "      <th>mean</th>\n",
       "      <th>std</th>\n",
       "      <th>min</th>\n",
       "      <th>25%</th>\n",
       "      <th>50%</th>\n",
       "      <th>75%</th>\n",
       "      <th>max</th>\n",
       "    </tr>\n",
       "  </thead>\n",
       "  <tbody>\n",
       "    <tr>\n",
       "      <th>Age</th>\n",
       "      <td>100000.0</td>\n",
       "      <td>39.36621</td>\n",
       "      <td>15.122459</td>\n",
       "      <td>7.0</td>\n",
       "      <td>27.0</td>\n",
       "      <td>40.0</td>\n",
       "      <td>51.0</td>\n",
       "      <td>85.0</td>\n",
       "    </tr>\n",
       "    <tr>\n",
       "      <th>Hotel wifi service</th>\n",
       "      <td>100000.0</td>\n",
       "      <td>2.72942</td>\n",
       "      <td>1.327962</td>\n",
       "      <td>0.0</td>\n",
       "      <td>2.0</td>\n",
       "      <td>3.0</td>\n",
       "      <td>4.0</td>\n",
       "      <td>5.0</td>\n",
       "    </tr>\n",
       "    <tr>\n",
       "      <th>Departure/Arrival  convenience</th>\n",
       "      <td>100000.0</td>\n",
       "      <td>3.06171</td>\n",
       "      <td>1.524823</td>\n",
       "      <td>0.0</td>\n",
       "      <td>2.0</td>\n",
       "      <td>3.0</td>\n",
       "      <td>4.0</td>\n",
       "      <td>5.0</td>\n",
       "    </tr>\n",
       "    <tr>\n",
       "      <th>Ease of Online booking</th>\n",
       "      <td>100000.0</td>\n",
       "      <td>2.75686</td>\n",
       "      <td>1.398951</td>\n",
       "      <td>0.0</td>\n",
       "      <td>2.0</td>\n",
       "      <td>3.0</td>\n",
       "      <td>4.0</td>\n",
       "      <td>5.0</td>\n",
       "    </tr>\n",
       "    <tr>\n",
       "      <th>Hotel location</th>\n",
       "      <td>100000.0</td>\n",
       "      <td>2.97742</td>\n",
       "      <td>1.276803</td>\n",
       "      <td>0.0</td>\n",
       "      <td>2.0</td>\n",
       "      <td>3.0</td>\n",
       "      <td>4.0</td>\n",
       "      <td>5.0</td>\n",
       "    </tr>\n",
       "    <tr>\n",
       "      <th>Food and drink</th>\n",
       "      <td>100000.0</td>\n",
       "      <td>3.20154</td>\n",
       "      <td>1.329879</td>\n",
       "      <td>0.0</td>\n",
       "      <td>2.0</td>\n",
       "      <td>3.0</td>\n",
       "      <td>4.0</td>\n",
       "      <td>5.0</td>\n",
       "    </tr>\n",
       "    <tr>\n",
       "      <th>Stay comfort</th>\n",
       "      <td>100000.0</td>\n",
       "      <td>3.43890</td>\n",
       "      <td>1.319433</td>\n",
       "      <td>0.0</td>\n",
       "      <td>2.0</td>\n",
       "      <td>4.0</td>\n",
       "      <td>5.0</td>\n",
       "      <td>5.0</td>\n",
       "    </tr>\n",
       "    <tr>\n",
       "      <th>Common Room entertainment</th>\n",
       "      <td>100000.0</td>\n",
       "      <td>3.35836</td>\n",
       "      <td>1.333123</td>\n",
       "      <td>0.0</td>\n",
       "      <td>2.0</td>\n",
       "      <td>4.0</td>\n",
       "      <td>4.0</td>\n",
       "      <td>5.0</td>\n",
       "    </tr>\n",
       "    <tr>\n",
       "      <th>Checkin/Checkout service</th>\n",
       "      <td>100000.0</td>\n",
       "      <td>3.30373</td>\n",
       "      <td>1.265509</td>\n",
       "      <td>0.0</td>\n",
       "      <td>3.0</td>\n",
       "      <td>3.0</td>\n",
       "      <td>4.0</td>\n",
       "      <td>5.0</td>\n",
       "    </tr>\n",
       "    <tr>\n",
       "      <th>Other service</th>\n",
       "      <td>100000.0</td>\n",
       "      <td>3.64056</td>\n",
       "      <td>1.176213</td>\n",
       "      <td>0.0</td>\n",
       "      <td>3.0</td>\n",
       "      <td>4.0</td>\n",
       "      <td>5.0</td>\n",
       "      <td>5.0</td>\n",
       "    </tr>\n",
       "    <tr>\n",
       "      <th>Cleanliness</th>\n",
       "      <td>100000.0</td>\n",
       "      <td>3.28591</td>\n",
       "      <td>1.312449</td>\n",
       "      <td>0.0</td>\n",
       "      <td>2.0</td>\n",
       "      <td>3.0</td>\n",
       "      <td>4.0</td>\n",
       "      <td>5.0</td>\n",
       "    </tr>\n",
       "  </tbody>\n",
       "</table>\n",
       "</div>"
      ],
      "text/plain": [
       "                                   count      mean        std  min   25%  \\\n",
       "Age                             100000.0  39.36621  15.122459  7.0  27.0   \n",
       "Hotel wifi service              100000.0   2.72942   1.327962  0.0   2.0   \n",
       "Departure/Arrival  convenience  100000.0   3.06171   1.524823  0.0   2.0   \n",
       "Ease of Online booking          100000.0   2.75686   1.398951  0.0   2.0   \n",
       "Hotel location                  100000.0   2.97742   1.276803  0.0   2.0   \n",
       "Food and drink                  100000.0   3.20154   1.329879  0.0   2.0   \n",
       "Stay comfort                    100000.0   3.43890   1.319433  0.0   2.0   \n",
       "Common Room entertainment       100000.0   3.35836   1.333123  0.0   2.0   \n",
       "Checkin/Checkout service        100000.0   3.30373   1.265509  0.0   3.0   \n",
       "Other service                   100000.0   3.64056   1.176213  0.0   3.0   \n",
       "Cleanliness                     100000.0   3.28591   1.312449  0.0   2.0   \n",
       "\n",
       "                                 50%   75%   max  \n",
       "Age                             40.0  51.0  85.0  \n",
       "Hotel wifi service               3.0   4.0   5.0  \n",
       "Departure/Arrival  convenience   3.0   4.0   5.0  \n",
       "Ease of Online booking           3.0   4.0   5.0  \n",
       "Hotel location                   3.0   4.0   5.0  \n",
       "Food and drink                   3.0   4.0   5.0  \n",
       "Stay comfort                     4.0   5.0   5.0  \n",
       "Common Room entertainment        4.0   4.0   5.0  \n",
       "Checkin/Checkout service         3.0   4.0   5.0  \n",
       "Other service                    4.0   5.0   5.0  \n",
       "Cleanliness                      3.0   4.0   5.0  "
      ]
     },
     "execution_count": 5,
     "metadata": {},
     "output_type": "execute_result"
    }
   ],
   "source": [
    "mydata.describe().transpose()"
   ]
  },
  {
   "cell_type": "code",
   "execution_count": 6,
   "metadata": {},
   "outputs": [
    {
     "data": {
      "image/png": "[encoded data removed]",
      "text/plain": [
       "<Figure size 432x360 with 1 Axes>"
      ]
     },
     "metadata": {
      "needs_background": "light"
     },
     "output_type": "display_data"
    }
   ],
   "source": [
    "fig = plt.figure(figsize =(6, 5))\n",
    "plt.boxplot(mydata.drop(['Age','Gender','purpose_of_travel','Type of Travel','Type Of Booking','overall experience'],axis='columns'))\n",
    "plt.show()"
   ]
  },
  {
   "cell_type": "code",
   "execution_count": 7,
   "metadata": {},
   "outputs": [
    {
     "name": "stdout",
     "output_type": "stream",
     "text": [
      "<class 'pandas.core.frame.DataFrame'>\n",
      "RangeIndex: 100000 entries, 0 to 99999\n",
      "Data columns (total 16 columns):\n",
      " #   Column                          Non-Null Count   Dtype \n",
      "---  ------                          --------------   ----- \n",
      " 0   Gender                          100000 non-null  object\n",
      " 1   Age                             100000 non-null  int64 \n",
      " 2   purpose_of_travel               100000 non-null  object\n",
      " 3   Type of Travel                  100000 non-null  object\n",
      " 4   Type Of Booking                 100000 non-null  object\n",
      " 5   Hotel wifi service              100000 non-null  int64 \n",
      " 6   Departure/Arrival  convenience  100000 non-null  int64 \n",
      " 7   Ease of Online booking          100000 non-null  int64 \n",
      " 8   Hotel location                  100000 non-null  int64 \n",
      " 9   Food and drink                  100000 non-null  int64 \n",
      " 10  Stay comfort                    100000 non-null  int64 \n",
      " 11  Common Room entertainment       100000 non-null  int64 \n",
      " 12  Checkin/Checkout service        100000 non-null  int64 \n",
      " 13  Other service                   100000 non-null  int64 \n",
      " 14  Cleanliness                     100000 non-null  int64 \n",
      " 15  overall experience              100000 non-null  object\n",
      "dtypes: int64(11), object(5)\n",
      "memory usage: 12.2+ MB\n"
     ]
    }
   ],
   "source": [
    "mydata.info()"
   ]
  },
  {
   "cell_type": "code",
   "execution_count": 8,
   "metadata": {},
   "outputs": [
    {
     "data": {
      "text/plain": [
       "1329"
      ]
     },
     "execution_count": 8,
     "metadata": {},
     "output_type": "execute_result"
    }
   ],
   "source": [
    "mydata.duplicated().sum()"
   ]
  },
  {
   "cell_type": "code",
   "execution_count": 9,
   "metadata": {},
   "outputs": [
    {
     "data": {
      "text/plain": [
       "0"
      ]
     },
     "execution_count": 9,
     "metadata": {},
     "output_type": "execute_result"
    }
   ],
   "source": [
    "data.id.duplicated().sum()"
   ]
  },
  {
   "cell_type": "code",
   "execution_count": 10,
   "metadata": {},
   "outputs": [],
   "source": [
    "corr = mydata.corr()"
   ]
  },
  {
   "cell_type": "code",
   "execution_count": 11,
   "metadata": {},
   "outputs": [
    {
     "data": {
      "text/plain": [
       "''"
      ]
     },
     "execution_count": 11,
     "metadata": {},
     "output_type": "execute_result"
    },
    {
     "data": {
      "image/png": "[encoded data removed]",
      "text/plain": [
       "<Figure size 432x288 with 2 Axes>"
      ]
     },
     "metadata": {
      "needs_background": "light"
     },
     "output_type": "display_data"
    }
   ],
   "source": [
    "ax = sns.heatmap(\n",
    "    corr, \n",
    "    vmin=-1, vmax=1, center=0,\n",
    "    cmap=sns.diverging_palette(20, 220, n=200),\n",
    "    square=True)\n",
    "ax.set_xticklabels(\n",
    "    ax.get_xticklabels(),\n",
    "    rotation=45,\n",
    "    horizontalalignment='right')\n",
    ";"
   ]
  },
  {
   "cell_type": "raw",
   "metadata": {},
   "source": []
  },
  {
   "cell_type": "code",
   "execution_count": 12,
   "metadata": {
    "scrolled": false
   },
   "outputs": [
    {
     "data": {
      "text/plain": [
       "<Figure size 432x288 with 0 Axes>"
      ]
     },
     "metadata": {},
     "output_type": "display_data"
    },
    {
     "data": {
      "image/png": "[encoded data removed]",
      "text/plain": [
       "<Figure size 432.125x360 with 1 Axes>"
      ]
     },
     "metadata": {
      "needs_background": "light"
     },
     "output_type": "display_data"
    }
   ],
   "source": [
    "plt.figure()\n",
    "sns.displot(mydata, x=\"Age\", hue=\"Gender\", multiple=\"dodge\")\n",
    "plt.show()"
   ]
  },
  {
   "cell_type": "code",
   "execution_count": 13,
   "metadata": {},
   "outputs": [],
   "source": [
    "mydata.rename(columns = {'Type of Travel': 'Travel_type', 'Type Of Booking': 'Booking_type', 'overall experience': 'Overall_experience'}, inplace = True)\n"
   ]
  },
  {
   "cell_type": "code",
   "execution_count": 14,
   "metadata": {},
   "outputs": [
    {
     "data": {
      "text/plain": [
       "['academic', 'business', 'tourism', 'personal', 'aviation']"
      ]
     },
     "execution_count": 14,
     "metadata": {},
     "output_type": "execute_result"
    }
   ],
   "source": [
    "travel_purposes=[]\n",
    "for i in range(len(mydata.purpose_of_travel)):\n",
    "    if mydata.purpose_of_travel[i] not in travel_purposes:\n",
    "            travel_purposes.append(mydata.purpose_of_travel[i])\n",
    "travel_purposes\n",
    "\n"
   ]
  },
  {
   "cell_type": "code",
   "execution_count": 15,
   "metadata": {},
   "outputs": [
    {
     "data": {
      "text/html": [
       "<div>\n",
       "<style scoped>\n",
       "    .dataframe tbody tr th:only-of-type {\n",
       "        vertical-align: middle;\n",
       "    }\n",
       "\n",
       "    .dataframe tbody tr th {\n",
       "        vertical-align: top;\n",
       "    }\n",
       "\n",
       "    .dataframe thead th {\n",
       "        text-align: right;\n",
       "    }\n",
       "</style>\n",
       "<table border=\"1\" class=\"dataframe\">\n",
       "  <thead>\n",
       "    <tr style=\"text-align: right;\">\n",
       "      <th></th>\n",
       "      <th>Gender</th>\n",
       "      <th>Age</th>\n",
       "      <th>purpose_of_travel</th>\n",
       "      <th>Travel_type</th>\n",
       "      <th>Booking_type</th>\n",
       "      <th>Hotel wifi service</th>\n",
       "      <th>Departure/Arrival  convenience</th>\n",
       "      <th>Ease of Online booking</th>\n",
       "      <th>Hotel location</th>\n",
       "      <th>Food and drink</th>\n",
       "      <th>Stay comfort</th>\n",
       "      <th>Common Room entertainment</th>\n",
       "      <th>Checkin/Checkout service</th>\n",
       "      <th>Other service</th>\n",
       "      <th>Cleanliness</th>\n",
       "      <th>Overall_experience</th>\n",
       "    </tr>\n",
       "  </thead>\n",
       "  <tbody>\n",
       "    <tr>\n",
       "      <th>0</th>\n",
       "      <td>Female</td>\n",
       "      <td>32</td>\n",
       "      <td>0</td>\n",
       "      <td>Group Travel</td>\n",
       "      <td>Individual/Couple</td>\n",
       "      <td>5</td>\n",
       "      <td>5</td>\n",
       "      <td>2</td>\n",
       "      <td>5</td>\n",
       "      <td>5</td>\n",
       "      <td>5</td>\n",
       "      <td>5</td>\n",
       "      <td>1</td>\n",
       "      <td>2</td>\n",
       "      <td>5</td>\n",
       "      <td>good</td>\n",
       "    </tr>\n",
       "    <tr>\n",
       "      <th>1</th>\n",
       "      <td>Male</td>\n",
       "      <td>44</td>\n",
       "      <td>1</td>\n",
       "      <td>Group Travel</td>\n",
       "      <td>Group bookings</td>\n",
       "      <td>3</td>\n",
       "      <td>3</td>\n",
       "      <td>3</td>\n",
       "      <td>3</td>\n",
       "      <td>5</td>\n",
       "      <td>3</td>\n",
       "      <td>4</td>\n",
       "      <td>2</td>\n",
       "      <td>4</td>\n",
       "      <td>1</td>\n",
       "      <td>good</td>\n",
       "    </tr>\n",
       "    <tr>\n",
       "      <th>2</th>\n",
       "      <td>Male</td>\n",
       "      <td>64</td>\n",
       "      <td>2</td>\n",
       "      <td>Personal Travel</td>\n",
       "      <td>Individual/Couple</td>\n",
       "      <td>3</td>\n",
       "      <td>5</td>\n",
       "      <td>3</td>\n",
       "      <td>3</td>\n",
       "      <td>1</td>\n",
       "      <td>1</td>\n",
       "      <td>1</td>\n",
       "      <td>3</td>\n",
       "      <td>5</td>\n",
       "      <td>1</td>\n",
       "      <td>bad</td>\n",
       "    </tr>\n",
       "    <tr>\n",
       "      <th>3</th>\n",
       "      <td>Female</td>\n",
       "      <td>36</td>\n",
       "      <td>0</td>\n",
       "      <td>Group Travel</td>\n",
       "      <td>Group bookings</td>\n",
       "      <td>2</td>\n",
       "      <td>4</td>\n",
       "      <td>4</td>\n",
       "      <td>4</td>\n",
       "      <td>4</td>\n",
       "      <td>3</td>\n",
       "      <td>2</td>\n",
       "      <td>1</td>\n",
       "      <td>2</td>\n",
       "      <td>2</td>\n",
       "      <td>bad</td>\n",
       "    </tr>\n",
       "    <tr>\n",
       "      <th>4</th>\n",
       "      <td>Female</td>\n",
       "      <td>80</td>\n",
       "      <td>2</td>\n",
       "      <td>Group Travel</td>\n",
       "      <td>Individual/Couple</td>\n",
       "      <td>2</td>\n",
       "      <td>4</td>\n",
       "      <td>2</td>\n",
       "      <td>5</td>\n",
       "      <td>4</td>\n",
       "      <td>4</td>\n",
       "      <td>4</td>\n",
       "      <td>2</td>\n",
       "      <td>2</td>\n",
       "      <td>4</td>\n",
       "      <td>bad</td>\n",
       "    </tr>\n",
       "  </tbody>\n",
       "</table>\n",
       "</div>"
      ],
      "text/plain": [
       "   Gender  Age  purpose_of_travel      Travel_type       Booking_type  \\\n",
       "0  Female   32                  0     Group Travel  Individual/Couple   \n",
       "1    Male   44                  1     Group Travel     Group bookings   \n",
       "2    Male   64                  2  Personal Travel  Individual/Couple   \n",
       "3  Female   36                  0     Group Travel     Group bookings   \n",
       "4  Female   80                  2     Group Travel  Individual/Couple   \n",
       "\n",
       "   Hotel wifi service  Departure/Arrival  convenience  Ease of Online booking  \\\n",
       "0                   5                               5                       2   \n",
       "1                   3                               3                       3   \n",
       "2                   3                               5                       3   \n",
       "3                   2                               4                       4   \n",
       "4                   2                               4                       2   \n",
       "\n",
       "   Hotel location  Food and drink  Stay comfort  Common Room entertainment  \\\n",
       "0               5               5             5                          5   \n",
       "1               3               5             3                          4   \n",
       "2               3               1             1                          1   \n",
       "3               4               4             3                          2   \n",
       "4               5               4             4                          4   \n",
       "\n",
       "   Checkin/Checkout service  Other service  Cleanliness Overall_experience  \n",
       "0                         1              2            5               good  \n",
       "1                         2              4            1               good  \n",
       "2                         3              5            1                bad  \n",
       "3                         1              2            2                bad  \n",
       "4                         2              2            4                bad  "
      ]
     },
     "execution_count": 15,
     "metadata": {},
     "output_type": "execute_result"
    }
   ],
   "source": [
    "def str_to_num(s):\n",
    "    if s in travel_purposes:\n",
    "        return travel_purposes.index(s)\n",
    "    else:\n",
    "        return s\n",
    "\n",
    "mydata.purpose_of_travel=mydata.purpose_of_travel.map(str_to_num)\n",
    "mydata.head()"
   ]
  },
  {
   "cell_type": "code",
   "execution_count": 16,
   "metadata": {},
   "outputs": [],
   "source": [
    "from random import randrange\n",
    "from myDecisionTree import *\n",
    "import random\n",
    "import time\n",
    "import copy"
   ]
  },
  {
   "cell_type": "code",
   "execution_count": 17,
   "metadata": {},
   "outputs": [],
   "source": [
    "test_ratio=0.2\n",
    "n_folds = 4"
   ]
  },
  {
   "cell_type": "code",
   "execution_count": 18,
   "metadata": {},
   "outputs": [],
   "source": [
    "test_size=round(test_ratio*(len(mydata)))\n",
    "indices = mydata.index.tolist()\n",
    "testIndices = random.sample(population = indices, k = test_size)\n",
    "dataFrameTest = mydata.loc[testIndices]\n",
    "dataFrameTrain = mydata.drop(testIndices)"
   ]
  },
  {
   "cell_type": "code",
   "execution_count": 19,
   "metadata": {},
   "outputs": [],
   "source": [
    "mytestlist=dataFrameTest.values.tolist() \n",
    "mylist=dataFrameTrain.values.tolist()\n",
    "header=list(mydata.columns)"
   ]
  },
  {
   "cell_type": "code",
   "execution_count": 20,
   "metadata": {},
   "outputs": [
    {
     "name": "stdout",
     "output_type": "stream",
     "text": [
      "['Gender', 'Age', 'purpose_of_travel', 'Travel_type', 'Booking_type', 'Hotel wifi service', 'Departure/Arrival  convenience', 'Ease of Online booking', 'Hotel location', 'Food and drink', 'Stay comfort', 'Common Room entertainment', 'Checkin/Checkout service', 'Other service', 'Cleanliness', 'Overall_experience']\n"
     ]
    }
   ],
   "source": [
    "print(header)"
   ]
  },
  {
   "cell_type": "code",
   "execution_count": 21,
   "metadata": {},
   "outputs": [
    {
     "name": "stdout",
     "output_type": "stream",
     "text": [
      "{'Male', 'Female'}\n",
      "{'Group Travel', 'Personal Travel'}\n",
      "{'Group bookings', 'Not defined', 'Individual/Couple'}\n",
      "{'bad', 'good'}\n"
     ]
    }
   ],
   "source": [
    "print(unique_vals(mylist,0))\n",
    "print(unique_vals(mylist,3))\n",
    "print(unique_vals(mylist,4))\n",
    "print(unique_vals(mylist,15))"
   ]
  },
  {
   "cell_type": "code",
   "execution_count": 22,
   "metadata": {},
   "outputs": [],
   "source": [
    "dataset_split = list()\n",
    "dataset_copy = list(mylist)\n",
    "fold_size = int(len(mylist) / n_folds)\n",
    "for i in range(n_folds):\n",
    "    fold = list()\n",
    "    while len(fold) < fold_size:\n",
    "        index = randrange(len(dataset_copy))\n",
    "        fold.append(dataset_copy.pop(index))\n",
    "    dataset_split.append(fold)\n"
   ]
  },
  {
   "cell_type": "code",
   "execution_count": 23,
   "metadata": {},
   "outputs": [
    {
     "name": "stdout",
     "output_type": "stream",
     "text": [
      "\n",
      "=====================================================================\n",
      "******* Decision Tree built on 'Hotel Experience' Dataset  **********\n",
      "=====================================================================\n",
      "\n",
      "Tree Number = 1: with Test Accuracy = 92.765%, Built in time = 67.68s\n",
      "Tree Number = 2: with Test Accuracy = 92.560%, Built in time = 56.75s\n",
      "Tree Number = 3: with Test Accuracy = 92.345%, Built in time = 56.81s\n",
      "Tree Number = 4: with Test Accuracy = 92.295%, Built in time = 56.83s\n"
     ]
    }
   ],
   "source": [
    "print(\"\\n=====================================================================\")\n",
    "print(\"******* Decision Tree built on 'Hotel Experience' Dataset  **********\")\n",
    "print(\"=====================================================================\\n\")\n",
    "\n",
    "i=1\n",
    "algo_type=1 # 0 for gini impurity, 1 for entropy\n",
    "max_acc=0.0\n",
    "mytime=0.0\n",
    "folds=dataset_split\n",
    "scores = list()\n",
    "for fold in folds:\n",
    "    trainDF = list(folds)\n",
    "    trainDF.remove(fold)\n",
    "    trainDF = sum(trainDF, [])\n",
    "    testDF = list()\n",
    "    for row in fold:\n",
    "        row_copy = list(row)\n",
    "        testDF.append(row_copy)\n",
    "    \n",
    "    print(\"Tree Number = {}: \".format(i), end = \"\")\n",
    "    startTime = time.time()\n",
    "    tree = build_tree(trainDF, header, algo_type)\n",
    "    buildTime = time.time() - startTime\n",
    "    acc = computeAccuracy(testDF, tree)\n",
    "    if (acc > max_acc):\n",
    "        max_acc = acc\n",
    "        mytree = tree\n",
    "        mytime=buildTime\n",
    "    print(\"with Test Accuracy = {0:.3f}%, \".format(acc*100), end = \"\")\n",
    "    print(\"Built in time = {0:.2f}s\".format(buildTime), end = \"\\n\")\n",
    "    i+=1"
   ]
  },
  {
   "cell_type": "code",
   "execution_count": 24,
   "metadata": {},
   "outputs": [
    {
     "name": "stdout",
     "output_type": "stream",
     "text": [
      "\n",
      "=====================================================================================\n",
      "********* Accuracy of best tree with testing data before pruning: 92.59%  ***********\n",
      "=====================================================================================\n",
      "\n"
     ]
    }
   ],
   "source": [
    "TestAccuracy = computeAccuracy(mytestlist, mytree)\n",
    "print(\"\\n=====================================================================================\")\n",
    "print(\"********* Accuracy of best tree with testing data before pruning: {0:.2f}% \".format(TestAccuracy*100) +\" ***********\")\n",
    "print(\"=====================================================================================\\n\")\n"
   ]
  },
  {
   "cell_type": "markdown",
   "metadata": {},
   "source": [
    "## Post-Pruning of the tree"
   ]
  },
  {
   "cell_type": "code",
   "execution_count": 25,
   "metadata": {},
   "outputs": [
    {
     "name": "stdout",
     "output_type": "stream",
     "text": [
      "Pruned node_id: 2 to achieve accuracy: 80.855%\n",
      "Pruned node_id: 6 to achieve accuracy: 90.400%\n",
      "Pruned node_id: 14 to achieve accuracy: 92.565%\n",
      "Pruned node_id: 29 to achieve accuracy: 92.605%\n",
      "Pruned node_id: 60 to achieve accuracy: 92.625%\n",
      "Pruned node_id: 492 to achieve accuracy: 92.630%\n"
     ]
    }
   ],
   "source": [
    "# Pruning of tree\n",
    "innerNodes = getInnerNodes(mytree)\n",
    "best_tree=mytree\n",
    "lastAcc=0.0\n",
    "maxAccuracy=TestAccuracy\n",
    "get_time=time.time()\n",
    "nodeIdToPrune = -1\n",
    "for node in innerNodes:\n",
    "    if node.id != 0:\n",
    "        temp_tree = copy.deepcopy(best_tree)\n",
    "        prune_tree(temp_tree, [node.id])\n",
    "        currentAccuracy = computeAccuracy(mytestlist, temp_tree)\n",
    "        \n",
    "        if currentAccuracy > lastAcc:\n",
    "            lastAcc=currentAccuracy\n",
    "            print(\"Pruned node_id: \" + str(node.id) + \" to achieve accuracy: {0:.3f}%\".format(currentAccuracy*100))\n",
    "\n",
    "        if currentAccuracy > maxAccuracy:\n",
    "            maxAccuracy = currentAccuracy\n",
    "            nodeIdToPrune = node.id\n",
    "        \n",
    "        if maxAccuracy == 1:\n",
    "            break\n",
    "        if (time.time()- get_time) > 300:\n",
    "            break\n",
    "    "
   ]
  },
  {
   "cell_type": "code",
   "execution_count": 45,
   "metadata": {},
   "outputs": [
    {
     "name": "stdout",
     "output_type": "stream",
     "text": [
      "\n",
      "Final node Id to prune (for max accuracy): 492\n",
      "\n",
      "====================================================================\n",
      "**************   Final Tree with accuracy: 92.63%   ****************\n",
      "====================================================================\n",
      "\n"
     ]
    }
   ],
   "source": [
    "if nodeIdToPrune != -1:\n",
    "    prune_tree(mytree, [nodeIdToPrune])\n",
    "    print(\"\\nFinal node Id to prune (for max accuracy): \" + str(nodeIdToPrune))\n",
    "else:\n",
    "    print(\"\\nPruning strategy could'nt increase accuracy\")\n",
    "\n",
    "leaves = getLeafNodes(mytree)\n",
    "mydepth =0\n",
    "leaf_count=0\n",
    "for leaf in leaves:\n",
    "    if leaf.depth > mydepth:\n",
    "        mydepth = leaf.depth\n",
    "    leaf_count+=1\n",
    "print(\"\\n====================================================================\")\n",
    "print(\"**************   Final Tree with accuracy: \" + str(maxAccuracy*100) + \"%   ****************\")\n",
    "print(\"====================================================================\\n\")\n"
   ]
  },
  {
   "cell_type": "markdown",
   "metadata": {},
   "source": [
    "# Comparing with scikit-learn Implementation "
   ]
  },
  {
   "cell_type": "code",
   "execution_count": 27,
   "metadata": {},
   "outputs": [],
   "source": [
    "from sklearn.metrics import accuracy_score\n",
    "from sklearn.datasets import load_iris\n",
    "from sklearn.tree import DecisionTreeClassifier\n",
    "from sklearn.tree import export_graphviz\n",
    "from sklearn.model_selection import train_test_split\n",
    "from sklearn import tree\n",
    "\n",
    "pd.options.mode.chained_assignment = None"
   ]
  },
  {
   "cell_type": "code",
   "execution_count": 28,
   "metadata": {},
   "outputs": [
    {
     "data": {
      "text/html": [
       "<div>\n",
       "<style scoped>\n",
       "    .dataframe tbody tr th:only-of-type {\n",
       "        vertical-align: middle;\n",
       "    }\n",
       "\n",
       "    .dataframe tbody tr th {\n",
       "        vertical-align: top;\n",
       "    }\n",
       "\n",
       "    .dataframe thead th {\n",
       "        text-align: right;\n",
       "    }\n",
       "</style>\n",
       "<table border=\"1\" class=\"dataframe\">\n",
       "  <thead>\n",
       "    <tr style=\"text-align: right;\">\n",
       "      <th></th>\n",
       "      <th>Gender</th>\n",
       "      <th>Age</th>\n",
       "      <th>purpose_of_travel</th>\n",
       "      <th>Travel_type</th>\n",
       "      <th>Booking_type</th>\n",
       "      <th>Hotel wifi service</th>\n",
       "      <th>Departure/Arrival  convenience</th>\n",
       "      <th>Ease of Online booking</th>\n",
       "      <th>Hotel location</th>\n",
       "      <th>Food and drink</th>\n",
       "      <th>Stay comfort</th>\n",
       "      <th>Common Room entertainment</th>\n",
       "      <th>Checkin/Checkout service</th>\n",
       "      <th>Other service</th>\n",
       "      <th>Cleanliness</th>\n",
       "      <th>Overall_experience</th>\n",
       "    </tr>\n",
       "  </thead>\n",
       "  <tbody>\n",
       "    <tr>\n",
       "      <th>0</th>\n",
       "      <td>0</td>\n",
       "      <td>32</td>\n",
       "      <td>0</td>\n",
       "      <td>1</td>\n",
       "      <td>1</td>\n",
       "      <td>5</td>\n",
       "      <td>5</td>\n",
       "      <td>2</td>\n",
       "      <td>5</td>\n",
       "      <td>5</td>\n",
       "      <td>5</td>\n",
       "      <td>5</td>\n",
       "      <td>1</td>\n",
       "      <td>2</td>\n",
       "      <td>5</td>\n",
       "      <td>1</td>\n",
       "    </tr>\n",
       "  </tbody>\n",
       "</table>\n",
       "</div>"
      ],
      "text/plain": [
       "   Gender  Age  purpose_of_travel  Travel_type  Booking_type  \\\n",
       "0       0   32                  0            1             1   \n",
       "\n",
       "   Hotel wifi service  Departure/Arrival  convenience  Ease of Online booking  \\\n",
       "0                   5                               5                       2   \n",
       "\n",
       "   Hotel location  Food and drink  Stay comfort  Common Room entertainment  \\\n",
       "0               5               5             5                          5   \n",
       "\n",
       "   Checkin/Checkout service  Other service  Cleanliness  Overall_experience  \n",
       "0                         1              2            5                   1  "
      ]
     },
     "execution_count": 28,
     "metadata": {},
     "output_type": "execute_result"
    }
   ],
   "source": [
    "Gender_Mapping = {\"Female\": 0, \"Male\": 1}\n",
    "Travel_type_Mapping = {\"Personal Travel\": 0, \"Group Travel\": 1}\n",
    "Booking_type_Mapping = {\"Not defined\": 0, \"Individual/Couple\": 1, \"Group bookings\": 2}\n",
    "Overall_experience_Mapping = {\"bad\": 0, \"good\": 1}\n",
    "mydata.Gender=mydata.Gender.map(Gender_Mapping)\n",
    "mydata.Travel_type=mydata.Travel_type.map(Travel_type_Mapping)\n",
    "mydata.Booking_type=mydata.Booking_type.map(Booking_type_Mapping)\n",
    "mydata.Overall_experience=mydata.Overall_experience.map(Overall_experience_Mapping)\n",
    "mydata.head(1)"
   ]
  },
  {
   "cell_type": "code",
   "execution_count": 29,
   "metadata": {},
   "outputs": [],
   "source": [
    "# Seperating to X and Y \n",
    "X = mydata.iloc[:, :14]\n",
    "y = mydata.iloc[:, -1]\n",
    "\n",
    "# splitting training and test\n",
    "X_train, X_test, y_train, y_test = train_test_split(X, y, train_size=0.75, shuffle=True, random_state=24)"
   ]
  },
  {
   "cell_type": "code",
   "execution_count": 30,
   "metadata": {},
   "outputs": [
    {
     "name": "stdout",
     "output_type": "stream",
     "text": [
      "38\n"
     ]
    }
   ],
   "source": [
    "start=time.time()\n",
    "dt = DecisionTreeClassifier()\n",
    "dt.fit(X_train, y_train)\n",
    "libtime=time.time()-start\n",
    "print(dt.tree_.max_depth)"
   ]
  },
  {
   "cell_type": "code",
   "execution_count": 31,
   "metadata": {},
   "outputs": [],
   "source": [
    "max_depth=[]\n",
    "acc_gini=[]\n",
    "acc_entropy=[]\n",
    "run_time=[]\n",
    "for i in range(5,35):\n",
    "    ti=time.time()\n",
    "    dtree = DecisionTreeClassifier(criterion='gini', max_depth=i)\n",
    "    dtree.fit(X_train,y_train)\n",
    "    pred = dtree.predict(X_test)\n",
    "    acc_gini.append(accuracy_score(y_test,pred))\n",
    "    \n",
    "    dtree = DecisionTreeClassifier(criterion='entropy', max_depth=i)\n",
    "    dtree.fit(X_train,y_train)\n",
    "    pred = dtree.predict(X_test)\n",
    "    acc_entropy.append(accuracy_score(y_test,pred))\n",
    "    \n",
    "    max_depth.append(i)\n",
    "    run_time.append((time.time()-ti)/2.0)\n",
    "    \n",
    "d = pd.DataFrame({'acc_gini':pd.Series(acc_gini), 'acc_entropy':pd.Series(acc_entropy), \n",
    "                  'max_depth':pd.Series(max_depth), 'time':pd.Series(run_time)})"
   ]
  },
  {
   "cell_type": "code",
   "execution_count": 32,
   "metadata": {},
   "outputs": [
    {
     "data": {
      "image/png": "[encoded data removed]",
      "text/plain": [
       "<Figure size 432x288 with 1 Axes>"
      ]
     },
     "metadata": {
      "needs_background": "light"
     },
     "output_type": "display_data"
    }
   ],
   "source": [
    "# visualizing changes in parameters\n",
    "plt.plot('max_depth','acc_gini', data=d, label='gini')\n",
    "plt.plot('max_depth','acc_entropy', data=d, label='entropy')\n",
    "plt.xlabel('max depth')\n",
    "plt.ylabel('accuracy')\n",
    "plt.legend()\n",
    "plt.show()"
   ]
  },
  {
   "cell_type": "code",
   "execution_count": 33,
   "metadata": {},
   "outputs": [
    {
     "data": {
      "image/png": "[encoded data removed]",
      "text/plain": [
       "<Figure size 432x288 with 1 Axes>"
      ]
     },
     "metadata": {
      "needs_background": "light"
     },
     "output_type": "display_data"
    }
   ],
   "source": [
    "plt.plot('max_depth','time', data=d, label='time')\n",
    "plt.xlabel('max depth')\n",
    "plt.ylabel('time in sec')\n",
    "plt.legend()\n",
    "plt.show()"
   ]
  },
  {
   "cell_type": "code",
   "execution_count": 34,
   "metadata": {},
   "outputs": [],
   "source": [
    "clf = DecisionTreeClassifier(criterion='entropy', random_state=0)\n",
    "path = clf.cost_complexity_pruning_path(X_train, y_train)\n",
    "ccp_alphas, impurities = path.ccp_alphas, path.impurities"
   ]
  },
  {
   "cell_type": "code",
   "execution_count": 35,
   "metadata": {},
   "outputs": [
    {
     "data": {
      "text/plain": [
       "Text(0.5, 1.0, 'Total Impurity vs effective alpha for training set')"
      ]
     },
     "execution_count": 35,
     "metadata": {},
     "output_type": "execute_result"
    },
    {
     "data": {
      "image/png": "[encoded data removed]",
      "text/plain": [
       "<Figure size 432x288 with 1 Axes>"
      ]
     },
     "metadata": {
      "needs_background": "light"
     },
     "output_type": "display_data"
    }
   ],
   "source": [
    "fig, ax = plt.subplots()\n",
    "ax.plot(ccp_alphas[:-1], impurities[:-1])\n",
    "ax.set_xlabel(\"effective alpha\")\n",
    "ax.set_ylabel(\"total impurity of leaves\")\n",
    "ax.set_title(\"Total Impurity vs effective alpha for training set\")"
   ]
  },
  {
   "cell_type": "code",
   "execution_count": 36,
   "metadata": {},
   "outputs": [
    {
     "name": "stdout",
     "output_type": "stream",
     "text": [
      "Number of nodes in the last tree is: 643 with ccp_alpha: 0.19185551655988398\n",
      "Number of trees skipped: 2107\n",
      "Built Trees: 42\n"
     ]
    }
   ],
   "source": [
    "clfs = []\n",
    "count=0\n",
    "skip=0\n",
    "run=0\n",
    "good_ccp_alphas=[]\n",
    "for ccp_alpha in ccp_alphas:\n",
    "    count+=1\n",
    "    if count != 50:\n",
    "        skip+=1\n",
    "        continue\n",
    "    \n",
    "    if ccp_alpha > 0.000175:\n",
    "        break\n",
    "    clf = DecisionTreeClassifier(criterion='entropy', random_state=0, ccp_alpha=ccp_alpha)\n",
    "    clf.fit(X_train, y_train)\n",
    "    clfs.append(clf)\n",
    "    good_ccp_alphas.append(ccp_alpha)\n",
    "    \n",
    "    count=0\n",
    "    run+=1\n",
    "print(\"Number of nodes in the last tree is: {} with ccp_alpha: {}\".format(\n",
    "      clfs[-1].tree_.node_count, ccp_alphas[-1]))\n",
    "print(\"Number of trees skipped: {}\\nBuilt Trees: {}\".format(skip,run))"
   ]
  },
  {
   "cell_type": "code",
   "execution_count": 37,
   "metadata": {},
   "outputs": [
    {
     "data": {
      "image/png": "[encoded data removed]",
      "text/plain": [
       "<Figure size 432x288 with 2 Axes>"
      ]
     },
     "metadata": {
      "needs_background": "light"
     },
     "output_type": "display_data"
    }
   ],
   "source": [
    "#clfs = clfs[:-1]\n",
    "#good_ccp_alphas = good_ccp_alphas[:-1]\n",
    "\n",
    "node_counts = [clf.tree_.node_count for clf in clfs]\n",
    "depth = [clf.tree_.max_depth for clf in clfs]\n",
    "fig, ax = plt.subplots(2, 1)\n",
    "ax[0].plot(good_ccp_alphas, node_counts, marker='', drawstyle=\"steps-post\")\n",
    "ax[0].set_xlabel(\"alpha\")\n",
    "ax[0].set_ylabel(\"number of nodes\")\n",
    "ax[0].set_title(\"Number of nodes vs alpha\")\n",
    "ax[1].plot(good_ccp_alphas, depth, marker='', drawstyle=\"steps-post\")\n",
    "ax[1].set_xlabel(\"alpha\")\n",
    "ax[1].set_ylabel(\"depth of tree\")\n",
    "ax[1].set_title(\"Depth vs alpha\")\n",
    "fig.tight_layout()"
   ]
  },
  {
   "cell_type": "code",
   "execution_count": 38,
   "metadata": {},
   "outputs": [
    {
     "data": {
      "image/png": "[encoded data removed]",
      "text/plain": [
       "<Figure size 432x288 with 1 Axes>"
      ]
     },
     "metadata": {
      "needs_background": "light"
     },
     "output_type": "display_data"
    }
   ],
   "source": [
    "train_scores = [clf.score(X_train, y_train) for clf in clfs]\n",
    "test_scores = [clf.score(X_test, y_test) for clf in clfs]\n",
    "\n",
    "fig, ax = plt.subplots()\n",
    "ax.set_xlabel(\"alpha\")\n",
    "ax.set_ylabel(\"accuracy\")\n",
    "ax.set_title(\"Accuracy vs alpha for training and testing sets\")\n",
    "ax.plot(good_ccp_alphas, train_scores, marker='', label=\"train\",\n",
    "        drawstyle=\"steps-post\")\n",
    "ax.plot(good_ccp_alphas, test_scores, marker='', label=\"test\",\n",
    "        drawstyle=\"steps-post\")\n",
    "ax.legend()\n",
    "plt.show()"
   ]
  },
  {
   "cell_type": "code",
   "execution_count": 39,
   "metadata": {},
   "outputs": [],
   "source": [
    "start=time.time()\n",
    "dt = DecisionTreeClassifier(criterion='entropy', random_state=0, ccp_alpha=0.000066)\n",
    "dt.fit(X_train, y_train)\n",
    "y_preds = dt.predict(X_test)\n",
    "dt_depth = dt.tree_.max_depth\n",
    "libtime=time.time()-start"
   ]
  },
  {
   "cell_type": "code",
   "execution_count": 40,
   "metadata": {},
   "outputs": [
    {
     "name": "stdout",
     "output_type": "stream",
     "text": [
      "\n",
      "Sklearn Implementation:\n",
      "Accuracy   = 94.064% \n",
      "Build time = 0.33s\n",
      "Depth      = 24\n",
      "\n",
      "My Decision Tree Implementation: \n",
      "Accuracy   = 92.630% \n",
      "Build time = 56.83s\n",
      "Depth      = 38\n"
     ]
    }
   ],
   "source": [
    "print(\"\\nSklearn Implementation:\")\n",
    "print(\"Accuracy   = {0:.3f}% \".format(accuracy_score(y_test, y_preds)*100), end = \"\\n\")\n",
    "print(\"Build time = {0:.2f}s\".format(libtime), end = \"\\n\")\n",
    "print(\"Depth      = {}\".format(dt_depth), end = \"\\n\")\n",
    "\n",
    "print(\"\\nMy Decision Tree Implementation: \")\n",
    "print(\"Accuracy   = {0:.3f}% \".format(maxAccuracy*100), end = \"\\n\")\n",
    "print(\"Build time = {0:.2f}s\".format(buildTime), end = \"\\n\")\n",
    "print(\"Depth      = {}\".format(mydepth), end = \"\\n\")"
   ]
  },
  {
   "cell_type": "markdown",
   "metadata": {},
   "source": [
    "# Printing the Decision Tree Features"
   ]
  },
  {
   "cell_type": "code",
   "execution_count": 41,
   "metadata": {},
   "outputs": [
    {
     "name": "stdout",
     "output_type": "stream",
     "text": [
      "\n",
      "==============================\n",
      "******* Decision Tree ********\n",
      "==============================\n",
      "\n"
     ]
    }
   ],
   "source": [
    "print(\"\\n==============================\")\n",
    "print(\"******* Decision Tree ********\")\n",
    "print(\"==============================\\n\")\n",
    "#print_tree(mytree)"
   ]
  },
  {
   "cell_type": "code",
   "execution_count": 42,
   "metadata": {},
   "outputs": [
    {
     "name": "stdout",
     "output_type": "stream",
     "text": [
      "\n",
      "==============================\n",
      "******** Leaf nodes **********\n",
      "==============================\n"
     ]
    }
   ],
   "source": [
    "# get leaf \n",
    "print(\"\\n==============================\")\n",
    "print(\"******** Leaf nodes **********\")\n",
    "print(\"==============================\")\n",
    "leaves = getLeafNodes(mytree)\n",
    "max_depth =0\n",
    "leaf_count=0\n",
    "for leaf in leaves:\n",
    "    #print(\"id = \" + str(leaf.id) + \" at depth = \" + str(leaf.depth))\n",
    "    if leaf.depth > max_depth:\n",
    "        max_depth = leaf.depth\n",
    "    leaf_count+=1"
   ]
  },
  {
   "cell_type": "code",
   "execution_count": 43,
   "metadata": {},
   "outputs": [
    {
     "name": "stdout",
     "output_type": "stream",
     "text": [
      "\n",
      "==============================\n",
      "****** Non-Leaf nodes ********\n",
      "==============================\n"
     ]
    }
   ],
   "source": [
    "# get inner nodes\n",
    "print(\"\\n==============================\")\n",
    "print(\"****** Non-Leaf nodes ********\")\n",
    "print(\"==============================\")\n",
    "innerNodes = getInnerNodes(mytree)\n",
    "node_count=0\n",
    "for inner in innerNodes:\n",
    "    #print(\"id = \" + str(inner.id) + \" depth =\" + str(inner.depth))\n",
    "    node_count+=1"
   ]
  },
  {
   "cell_type": "code",
   "execution_count": 44,
   "metadata": {},
   "outputs": [
    {
     "name": "stdout",
     "output_type": "stream",
     "text": [
      "Number of Leaf Nodes:       8376\n",
      "Number of Internal Nodes:   8387\n",
      "Maximum Depth:              38\n"
     ]
    }
   ],
   "source": [
    "print(\"Number of Leaf Nodes:      \", leaf_count)\n",
    "print(\"Number of Internal Nodes:  \", node_count)\n",
    "print(\"Maximum Depth:             \", max_depth)"
   ]
  },
  {
   "cell_type": "code",
   "execution_count": null,
   "metadata": {},
   "outputs": [],
   "source": []
  }
 ],
 "metadata": {
  "kernelspec": {
   "display_name": "Python 3",
   "language": "python",
   "name": "python3"
  },
  "language_info": {
   "codemirror_mode": {
    "name": "ipython",
    "version": 3
   },
   "file_extension": ".py",
   "mimetype": "text/x-python",
   "name": "python",
   "nbconvert_exporter": "python",
   "pygments_lexer": "ipython3",
   "version": "3.8.5"
  }
 },
 "nbformat": 4,
 "nbformat_minor": 4
}
